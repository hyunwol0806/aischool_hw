{
  "nbformat": 4,
  "nbformat_minor": 0,
  "metadata": {
    "colab": {
      "name": "Untitled0.ipynb",
      "provenance": [],
      "authorship_tag": "ABX9TyO5KixNIo9YEzZ2bC1LZmQy",
      "include_colab_link": true
    },
    "kernelspec": {
      "name": "python3",
      "display_name": "Python 3"
    }
  },
  "cells": [
    {
      "cell_type": "markdown",
      "metadata": {
        "id": "view-in-github",
        "colab_type": "text"
      },
      "source": [
        "<a href=\"https://colab.research.google.com/github/hyunwol0806/aischool_hw/blob/master/week1_hw.ipynb\" target=\"_parent\"><img src=\"https://colab.research.google.com/assets/colab-badge.svg\" alt=\"Open In Colab\"/></a>"
      ]
    },
    {
      "cell_type": "markdown",
      "metadata": {
        "id": "25H2HoEjnkx6",
        "colab_type": "text"
      },
      "source": [
        "4가지 기술 언어, 음성, 이미지, 자율주행\n",
        "\n",
        "1. **언어(텍스트)** - Talk to Transformer, 딥 러닝을 이용한 랜덤 소설 작성 웹사이트. 사용자가 입력한 무작위 단어를 이용해 소설을 작성한다. DB의 양은 15억 5천만개 이상.\n",
        "\n",
        "2. **음성** - iPhone Siri, ios에서 지원하는 음성 인식 비서 서비스이다. 사용자의 음성을 녹음해 서버에서 분석해 텍스트로 변환, 인공지능으로 분석해 어떤 동작을 할지 결정한다.\n",
        "\n",
        "3. **이미지** - waifu2x, 인공지능을 이용한 이미지의 해상도 보정 서비스이다. 작은 이미지를 확대하면서 생기는 픽셀깨짐, 열화 현상을 딥 러닝을 통한 학습을 이용해서 복원한다. 또한 동영상의 해상도 보정도 지원한다.\n",
        "\n",
        "4. **자율주행** - 테슬라 오토파일럿, 2020년 초기 구글의 웨이모가 3천만km의 도로 주행 데이터를 가지고 있는 것과는 비교되게 테슬라의 오토파일럿은 48억km의 도로 주행 데이터를 가지고있다. 최종 목표는 운전자 없이 자동차로만 운행하는 것. 테슬라 모델3에는 이미 무인 주행에 관련된 장비가 탑재 되어 있으며 법규의 문제가 없으면 2020년 안에 무인택시 서비스가 가능하다고 일론 머스크가 이야기 했다."
      ]
    }
  ]
}